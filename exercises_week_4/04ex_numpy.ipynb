{
 "cells": [
  {
   "cell_type": "markdown",
   "metadata": {},
   "source": [
    "1\\. **Reductions**\n",
    "\n",
    "Find the total mean, and the mean for each row and column of the following matrix:\n",
    "\n",
    "```python\n",
    "m = np.arange(12).reshape((3,4))\n",
    "```"
   ]
  },
  {
   "cell_type": "code",
   "execution_count": 2,
   "metadata": {},
   "outputs": [
    {
     "name": "stdout",
     "output_type": "stream",
     "text": [
      "[[ 0  1  2  3]\n",
      " [ 4  5  6  7]\n",
      " [ 8  9 10 11]]\n",
      "The mean value on the row:  [1.5 5.5 9.5]\n",
      "The mean value on the column:  [4. 5. 6. 7.]\n",
      "The mean value on the matrix:  5.5\n"
     ]
    }
   ],
   "source": [
    "import numpy as np\n",
    "m = np.arange(12).reshape((3,4))\n",
    "s = list(m.shape)\n",
    "\n",
    "mean_row = np.sum(m,axis=1)/(s[1])\n",
    "mean_col = np.sum(m,axis=0)/(s[0])\n",
    "mean = np.sum(m)/(s[0]*s[1])\n",
    "print(m)\n",
    "print(\"The mean value on the row: \", mean_row)\n",
    "print(\"The mean value on the column: \", mean_col)\n",
    "print(\"The mean value on the matrix: \", mean)"
   ]
  },
  {
   "cell_type": "markdown",
   "metadata": {},
   "source": [
    "2\\. **Outer product**\n",
    "\n",
    "Find the outer product of the following vectors:\n",
    "\n",
    "```python\n",
    "u = np.array([1, 3, 5, 7])\n",
    "v = np.array([2, 4, 6, 8])\n",
    "```\n",
    "\n",
    "Use different methods to do this:\n",
    "\n",
    "   1. Using the function `outer` in numpy\n",
    "   2. Using a nested `for` loop or a list comprehension\n",
    "   3. Using numpy broadcasting operations"
   ]
  },
  {
   "cell_type": "code",
   "execution_count": 3,
   "metadata": {},
   "outputs": [
    {
     "name": "stdout",
     "output_type": "stream",
     "text": [
      "The outer product using outer function is :  [[ 2  4  6  8]\n",
      " [ 6 12 18 24]\n",
      " [10 20 30 40]\n",
      " [14 28 42 56]]\n",
      "The outer product using for loop is :  [[ 2.  4.  6.  8.]\n",
      " [ 6. 12. 18. 24.]\n",
      " [10. 20. 30. 40.]\n",
      " [14. 28. 42. 56.]]\n",
      "The outer product using numpy broadcasting operations is :  [[ 2  4  6  8]\n",
      " [ 6 12 18 24]\n",
      " [10 20 30 40]\n",
      " [14 28 42 56]]\n"
     ]
    }
   ],
   "source": [
    "u = np.array([1, 3, 5, 7])\n",
    "v = np.array([2, 4, 6, 8])\n",
    "\n",
    "# 1. using outer function\n",
    "p_1 = np.outer(u,v,out=None)\n",
    "\n",
    "#2. for loop\n",
    "p_2 = np.eye(4,4)\n",
    "for i in range(u.size):\n",
    "    for j in range(v.size):\n",
    "        p_2[i][j] = u[i]*v[j]\n",
    "        \n",
    "#3. using broadcasting\n",
    "p_3 = u[:,np.newaxis]*v\n",
    "    \n",
    "    \n",
    "print(\"The outer product using outer function is : \", p_1)\n",
    "print(\"The outer product using for loop is : \", p_2)\n",
    "print(\"The outer product using numpy broadcasting operations is : \", p_3)"
   ]
  },
  {
   "cell_type": "markdown",
   "metadata": {},
   "source": [
    "3\\. **Matrix masking**\n",
    "\n",
    "Create a 10 by 6 matrix of float random numbers, distributed between 0 and 3 according to a flat distribution.\n",
    "\n",
    "After creating the matrix, set all entries $< 0.3$ to zero using a mask."
   ]
  },
  {
   "cell_type": "code",
   "execution_count": 4,
   "metadata": {},
   "outputs": [
    {
     "name": "stdout",
     "output_type": "stream",
     "text": [
      "Original matrix: \n",
      " [[1.97985885 1.44284232 0.23951882 0.58541068 2.00634815 0.41278806]\n",
      " [0.69514506 0.3940859  1.40598852 0.8936412  1.69932543 2.88312499]\n",
      " [2.56994789 0.80107614 2.14702205 1.70995751 1.79779379 2.46468428]\n",
      " [2.34054205 1.8874955  0.10255335 2.9537821  0.94461209 1.05442024]\n",
      " [0.55608872 0.24636465 1.9263314  1.35044452 0.06286793 1.17040102]\n",
      " [0.02236549 0.89338244 2.95021022 0.41609749 2.81088639 1.83160749]\n",
      " [0.79886573 0.81980767 2.68435706 0.54870705 1.4565879  2.04399042]\n",
      " [1.69166824 1.25840199 2.64267642 1.64869636 1.33186    1.19640818]\n",
      " [0.01761525 0.00774908 0.74795986 1.38682648 2.13619586 2.92603205]\n",
      " [1.14890778 0.87613762 0.34953483 2.08568117 2.29618819 0.21281   ]]\n",
      "Filtered matrix: \n",
      " [[1.97985885 1.44284232 0.         0.58541068 2.00634815 0.41278806]\n",
      " [0.69514506 0.3940859  1.40598852 0.8936412  1.69932543 2.88312499]\n",
      " [2.56994789 0.80107614 2.14702205 1.70995751 1.79779379 2.46468428]\n",
      " [2.34054205 1.8874955  0.         2.9537821  0.94461209 1.05442024]\n",
      " [0.55608872 0.         1.9263314  1.35044452 0.         1.17040102]\n",
      " [0.         0.89338244 2.95021022 0.41609749 2.81088639 1.83160749]\n",
      " [0.79886573 0.81980767 2.68435706 0.54870705 1.4565879  2.04399042]\n",
      " [1.69166824 1.25840199 2.64267642 1.64869636 1.33186    1.19640818]\n",
      " [0.         0.         0.74795986 1.38682648 2.13619586 2.92603205]\n",
      " [1.14890778 0.87613762 0.34953483 2.08568117 2.29618819 0.        ]]\n"
     ]
    }
   ],
   "source": [
    "import numpy.random as npr\n",
    "\n",
    "r = 3*npr.rand(10,6)\n",
    "mask = (r < 0.3)\n",
    "#print(mask)\n",
    "print(\"Original matrix: \\n\",r)\n",
    "\n",
    "for i in range(10):\n",
    "    for j in range(6):\n",
    "        if mask[i,j]:\n",
    "            #print(mask[i,j])\n",
    "            r[i,j] = 0\n",
    "            #print(r[i,j])\n",
    "filtered = r\n",
    "print(\"Filtered matrix: \\n\",filtered)\n",
    "\n"
   ]
  },
  {
   "cell_type": "markdown",
   "metadata": {},
   "source": [
    "4\\. **Trigonometric functions**\n",
    "\n",
    "Use `np.linspace` to create an array of 100 numbers between $0$ and $2\\pi$ (inclusive).\n",
    "\n",
    "  * Extract every 10th element using the slice notation\n",
    "  * Reverse the array using the slice notation\n",
    "  * Extract elements where the absolute difference between the `sin` and `cos` functions evaluated for that element is $< 0.1$\n",
    "  * **Optional**: make a plot showing the sin and cos functions and indicate where they are close"
   ]
  },
  {
   "cell_type": "code",
   "execution_count": 5,
   "metadata": {},
   "outputs": [
    {
     "name": "stdout",
     "output_type": "stream",
     "text": [
      "Every 10th element: \n",
      " [0.         0.63466518 1.26933037 1.90399555 2.53866073 3.17332591\n",
      " 3.8079911  4.44265628 5.07732146 5.71198664]\n",
      "Reversed array: \n",
      " [6.28318531 6.21971879 6.15625227 6.09278575 6.02931923 5.96585272\n",
      " 5.9023862  5.83891968 5.77545316 5.71198664 5.64852012 5.58505361\n",
      " 5.52158709 5.45812057 5.39465405 5.33118753 5.26772102 5.2042545\n",
      " 5.14078798 5.07732146 5.01385494 4.95038842 4.88692191 4.82345539\n",
      " 4.75998887 4.69652235 4.63305583 4.56958931 4.5061228  4.44265628\n",
      " 4.37918976 4.31572324 4.25225672 4.1887902  4.12532369 4.06185717\n",
      " 3.99839065 3.93492413 3.87145761 3.8079911  3.74452458 3.68105806\n",
      " 3.61759154 3.55412502 3.4906585  3.42719199 3.36372547 3.30025895\n",
      " 3.23679243 3.17332591 3.10985939 3.04639288 2.98292636 2.91945984\n",
      " 2.85599332 2.7925268  2.72906028 2.66559377 2.60212725 2.53866073\n",
      " 2.47519421 2.41172769 2.34826118 2.28479466 2.22132814 2.15786162\n",
      " 2.0943951  2.03092858 1.96746207 1.90399555 1.84052903 1.77706251\n",
      " 1.71359599 1.65012947 1.58666296 1.52319644 1.45972992 1.3962634\n",
      " 1.33279688 1.26933037 1.20586385 1.14239733 1.07893081 1.01546429\n",
      " 0.95199777 0.88853126 0.82506474 0.76159822 0.6981317  0.63466518\n",
      " 0.57119866 0.50773215 0.44426563 0.38079911 0.31733259 0.25386607\n",
      " 0.19039955 0.12693304 0.06346652 0.        ]\n",
      "These are the values which satisfy the request: \n",
      "Absolute difference            Value               \n",
      "0.03365502662295816            0.7615982190520711  \n",
      "0.056082297100401135           0.8250647373064104  \n",
      "0.07849544915946327            3.8714576135146945  \n",
      "0.011219283672541658           3.934924131769034   \n"
     ]
    }
   ],
   "source": [
    "import math\n",
    "arr = np.linspace(0,2*np.pi,100)\n",
    "#a\n",
    "a = np.ones(10)\n",
    "for i in range(10):\n",
    "    a[i] = (arr[i*10])\n",
    "    #print(arr[i*10])\n",
    "print(\"Every 10th element: \\n\",a)\n",
    "\n",
    "#b\n",
    "b = arr[::-1]\n",
    "print(\"Reversed array: \\n\",b)\n",
    "\n",
    "#c\n",
    "print(\"These are the values which satisfy the request: \")\n",
    "print (\"{:<30} {:<20}\".format('Absolute difference','Value'))\n",
    "\n",
    "    \n",
    "for i in range(arr.size):\n",
    "    if(abs(math.sin(arr[i])-math.cos(arr[i])) < 0.1):\n",
    "        print (\"{:<30} {:<20}\".format(abs(math.sin(arr[i])-math.cos(arr[i])),arr[i]))"
   ]
  },
  {
   "cell_type": "markdown",
   "metadata": {},
   "source": [
    "5\\. **Matrices**\n",
    "\n",
    "Create a matrix that shows the 10 by 10 multiplication table.\n",
    "\n",
    " * Find the trace of the matrix\n",
    " * Extract the anti-diagonal matrix (this should be ```array([10, 18, 24, 28, 30, 30, 28, 24, 18, 10])```)\n",
    " * Extract the diagonal offset by 1 upwards (this should be ```array([ 2,  6, 12, 20, 30, 42, 56, 72, 90])```)"
   ]
  },
  {
   "cell_type": "code",
   "execution_count": 6,
   "metadata": {},
   "outputs": [
    {
     "name": "stdout",
     "output_type": "stream",
     "text": [
      "[[  1   2   3   4   5   6   7   8   9  10]\n",
      " [  2   4   6   8  10  12  14  16  18  20]\n",
      " [  3   6   9  12  15  18  21  24  27  30]\n",
      " [  4   8  12  16  20  24  28  32  36  40]\n",
      " [  5  10  15  20  25  30  35  40  45  50]\n",
      " [  6  12  18  24  30  36  42  48  54  60]\n",
      " [  7  14  21  28  35  42  49  56  63  70]\n",
      " [  8  16  24  32  40  48  56  64  72  80]\n",
      " [  9  18  27  36  45  54  63  72  81  90]\n",
      " [ 10  20  30  40  50  60  70  80  90 100]]\n",
      "The trace of the matrix m is :  385\n",
      "The anit-diagonal of the matrix m is :  [10 18 24 28 30 30 28 24 18 10]\n",
      "The diagonal with offset by one of m is :  [ 2  6 12 20 30 42 56 72 90]\n"
     ]
    }
   ],
   "source": [
    "u = np.arange(1, 11)\n",
    "m = u[:,np.newaxis]*u\n",
    "print(m)\n",
    "print(\"The trace of the matrix m is : \", np.matrix.trace(m))\n",
    "m_rev = m[::-1]\n",
    "print(\"The anit-diagonal of the matrix m is : \", np.matrix.diagonal(m[::-1]))\n",
    "print(\"The diagonal with offset by one of m is : \", np.matrix.diagonal(m,offset=1))"
   ]
  },
  {
   "cell_type": "markdown",
   "metadata": {},
   "source": [
    "6\\. **Broadcasting**\n",
    "\n",
    "Use broadcasting to create a grid of distances.\n",
    "\n",
    "Route 66 crosses the following cities in the US: Chicago, Springfield, Saint-Louis, Tulsa, Oklahoma City, Amarillo, Santa Fe, Albuquerque, Flagstaff, Los Angeles.\n",
    "\n",
    "The corresponding positions in miles are: 0, 198, 303, 736, 871, 1175, 1475, 1544, 1913, 2448\n",
    "\n",
    "  * Build a 2D grid of distances among each city along Route 66\n",
    "  * Convert the distances in km"
   ]
  },
  {
   "cell_type": "code",
   "execution_count": 7,
   "metadata": {},
   "outputs": [
    {
     "name": "stdout",
     "output_type": "stream",
     "text": [
      "Chicago  Springfield  Saint-Louis  Tulsa  Oklahoma City  Amarillo  Santa Fe  Albuquerque  Flagstaff  Los Angeles\n",
      "Distances in miles:  [   0  198  303  736  871 1175 1475 1544 1913 2448]\n",
      "Distances in km:  [   0.     318.582  487.527 1184.224 1401.439 1890.575 2373.275 2484.296\n",
      " 3078.017 3938.832]\n",
      "Grid of istances for miles: \n",
      " [[   0  198  303  736  871 1175 1475 1544 1913 2448]\n",
      " [ 198    0  105  538  673  977 1277 1346 1715 2250]\n",
      " [ 303  105    0  433  568  872 1172 1241 1610 2145]\n",
      " [ 736  538  433    0  135  439  739  808 1177 1712]\n",
      " [ 871  673  568  135    0  304  604  673 1042 1577]\n",
      " [1175  977  872  439  304    0  300  369  738 1273]\n",
      " [1475 1277 1172  739  604  300    0   69  438  973]\n",
      " [1544 1346 1241  808  673  369   69    0  369  904]\n",
      " [1913 1715 1610 1177 1042  738  438  369    0  535]\n",
      " [2448 2250 2145 1712 1577 1273  973  904  535    0]]\n",
      "Grid of istances for km: \n",
      " %[[   0.   318.6  487.5 1184.2 1401.4 1890.6 2373.3 2484.3 3078.  3938.8]\n",
      " [ 318.6    0.   168.9  865.6 1082.9 1572.  2054.7 2165.7 2759.4 3620.2]\n",
      " [ 487.5  168.9    0.   696.7  913.9 1403.  1885.7 1996.8 2590.5 3451.3]\n",
      " [1184.2  865.6  696.7    0.   217.2  706.4 1189.1 1300.1 1893.8 2754.6]\n",
      " [1401.4 1082.9  913.9  217.2    0.   489.1  971.8 1082.9 1676.6 2537.4]\n",
      " [1890.6 1572.  1403.   706.4  489.1    0.   482.7  593.7 1187.4 2048.3]\n",
      " [2373.3 2054.7 1885.7 1189.1  971.8  482.7    0.   111.   704.7 1565.6]\n",
      " [2484.3 2165.7 1996.8 1300.1 1082.9  593.7  111.     0.   593.7 1454.5]\n",
      " [3078.  2759.4 2590.5 1893.8 1676.6 1187.4  704.7  593.7    0.   860.8]\n",
      " [3938.8 3620.2 3451.3 2754.6 2537.4 2048.3 1565.6 1454.5  860.8    0. ]]\n"
     ]
    }
   ],
   "source": [
    "print (\"Chicago \", \"Springfield \", \"Saint-Louis \", \"Tulsa \", \"Oklahoma City \", \"Amarillo \", \"Santa Fe \", \"Albuquerque \", \"Flagstaff \", \"Los Angeles\")\n",
    "#print (\"Chicago \", \"Springfield \", \"Saint-Louis \", \"Tulsa \", \"Oklahoma City \", \"Amarillo \", \"Santa Fe \", \"Albuquerque \", \"Flagstaff \", \"Los Angeles\")\n",
    "\n",
    "miles = np.array([0, 198, 303, 736, 871, 1175, 1475, 1544, 1913, 2448])\n",
    "k = 1.609\n",
    "km = np.array([x*k for x in miles])\n",
    "\n",
    "d_miles = abs(miles[:,np.newaxis]-miles)\n",
    "d_km = np.round(abs(km[:,np.newaxis]-km),1)\n",
    "\n",
    "print(\"Distances in miles: \",miles)\n",
    "print(\"Distances in km: \", km)\n",
    "\n",
    "#2D grid of distances among each city in miles \n",
    "print(\"Grid of istances for miles: \\n\",d_miles)\n",
    "#2D grid of distances among each city in kms \n",
    "print(f\"Grid of istances for km: \\n %{d_km}\")\n",
    "\n"
   ]
  },
  {
   "cell_type": "markdown",
   "metadata": {},
   "source": [
    "7\\. **Prime numbers sieve**\n",
    "\n",
    "Compute the prime numbers in the 0-N (start with N=99) range with a sieve (mask).\n",
    "\n",
    "  * Constract a shape (N,) boolean array, which is the mask\n",
    "  * Identify the multiples of each number starting from 2 and set accordingly the corresponding mask element\n",
    "  * Apply the mask to obtain an array of ordered prime numbers\n",
    "  * Check the performances (with `timeit`); how does it scale with N?\n",
    "  * Implement the optimization suggested in the [sieve of Eratosthenes](https://en.wikipedia.org/wiki/Sieve_of_Eratosthenes)"
   ]
  },
  {
   "cell_type": "code",
   "execution_count": 8,
   "metadata": {},
   "outputs": [
    {
     "name": "stdout",
     "output_type": "stream",
     "text": [
      "The mask: \n",
      " [True, True, False, True, False, True, False, False, False, True, False, True, False, False, False, True, False, True, False, False, False, True, False, False, False, False, False, True, False, True, False, False, False, False, False, True, False, False, False, True, False, True, False, False, False, True, False, False, False, False, False, True, False, False, False, False, False, True, False, True, False, False, False, False, False, True, False, False, False, True, False, True, False, False, False, False, False, True, False, False, False, True, False, False, False, False, False, True, False, False, False, False, False, False, False, True, False, False]\n",
      "Prime numbers are:  [3.0, 5.0, 9.0, 11.0, 15.0, 17.0, 21.0, 27.0, 29.0, 35.0, 39.0, 41.0, 45.0, 51.0, 57.0, 59.0, 65.0, 69.0, 71.0, 77.0, 81.0, 87.0, 95.0]\n",
      "Time of the algorithm:  0.0002488999998604413\n"
     ]
    }
   ],
   "source": [
    "import timeit\n",
    "\n",
    "N = 99\n",
    "u = np.linspace(0,N,N+1)\n",
    "primes = []\n",
    "#print(u)\n",
    "\n",
    "start_time = timeit.default_timer()\n",
    "mask = [(all(x % y != 0 for y in range(2, x))) for x in range(2, len(u))]\n",
    "\n",
    "for i in range(2,len(mask)):\n",
    "    if mask[i]:\n",
    "        primes.append(u[i])\n",
    "\n",
    "end_time = timeit.default_timer()\n",
    "time = end_time - start_time\n",
    "\n",
    "print(\"The mask: \\n\",mask)\n",
    "print(\"Prime numbers are: \", primes )\n",
    "print(\"Time of the algorithm: \", time)\n",
    "\n"
   ]
  },
  {
   "cell_type": "markdown",
   "metadata": {},
   "source": [
    "8\\. **Diffusion using random walk**\n",
    "\n",
    "Consider a simple random walk process: at each step in time, a walker jumps right or left (+1 or -1) with equal probability. The goal is to find the typical distance from the origin of many random walkers after a given amount of time.\n",
    "\n",
    "*Hint*: create a 2D array where each row represents a walker, and each column represents a time step.\n",
    "\n",
    "  * Take 1000 walkers and let them walk for 200 steps\n",
    "  * Use `randint` to create a 2D array of size $walkers \\times steps$ with values -1 or 1\n",
    "  * Calculate the walking distances for each walker (e.g. by summing the elements in each row)\n",
    "  * Take the square of the previously-obtained array (element-wise)\n",
    "  * Compute the mean of the squared distances at each step (i.e. the mean along the columns)\n",
    "  * **Optional**: plot the average distances ($\\sqrt(distance^2)$) as a function of time (step)"
   ]
  },
  {
   "cell_type": "code",
   "execution_count": 40,
   "metadata": {},
   "outputs": [
    {
     "name": "stdout",
     "output_type": "stream",
     "text": [
      "[[ 0 -1  1 -1 -1]\n",
      " [ 0  1  1 -1 -1]\n",
      " [ 0  0  0  0 -1]\n",
      " [-1  0  1  0 -1]\n",
      " [-1  1  0  1 -1]\n",
      " [ 1 -1  1  0 -1]\n",
      " [-1  1 -1  0  0]\n",
      " [ 1  0  1  0 -1]\n",
      " [-1  1  1 -1  1]\n",
      " [ 0  1  0  0  1]]\n",
      "Distances for walker:  [4 0 1 1 0 0 1 1 1 4]\n",
      "Squared distances at each step:  [0.77 0.7  0.7  0.4  0.9 ]\n"
     ]
    }
   ],
   "source": [
    "number_walkers = 10\n",
    "steps = 5\n",
    "u = npr.randint(-1,2, size = (number_walkers,steps)) #initializing an array with 1000 walkers and 200 steps\n",
    "print(u)\n",
    "\n",
    "total_dist = []\n",
    "mean_dist = []\n",
    "v = np.ones((number_walkers,steps)) #list containing the squared distances\n",
    "total_dist.append(np.sum(u,axis=1)) #distances for each walker\n",
    "\n",
    "for i in range(len(total_dist)):\n",
    "    total_dist[i]=total_dist[i]**2\n",
    "print(\"Distances for walker: \",total_dist[0])\n",
    "\n",
    "#mean squared distances at each step \n",
    "v=u*u\n",
    "#print(v)   \n",
    "mean_dist.append(np.sum(v,axis=0)/number_walkers) #sum of the squares on each column\n",
    "\n",
    "for i in (range(len(mean_dist))):\n",
    "    a = mean_dist[0][i]\n",
    "    mean_dist[0][i] = np.round(math.sqrt(a),2)\n",
    "\n",
    "print(\"Squared distances at each step: \",mean_dist[0])\n",
    "\n",
    "\n"
   ]
  }
 ],
 "metadata": {
  "kernelspec": {
   "display_name": "Python 3.10.8 64-bit (microsoft store)",
   "language": "python",
   "name": "python3"
  },
  "language_info": {
   "codemirror_mode": {
    "name": "ipython",
    "version": 3
   },
   "file_extension": ".py",
   "mimetype": "text/x-python",
   "name": "python",
   "nbconvert_exporter": "python",
   "pygments_lexer": "ipython3",
   "version": "3.10.8"
  },
  "vscode": {
   "interpreter": {
    "hash": "e797b728ba79ae490405593a9b2579e8202d92c46d469c8114b770c726a6b58a"
   }
  }
 },
 "nbformat": 4,
 "nbformat_minor": 2
}
